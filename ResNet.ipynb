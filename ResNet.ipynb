{
 "cells": [
  {
   "cell_type": "code",
   "execution_count": 1,
   "id": "d01ab1ef",
   "metadata": {},
   "outputs": [],
   "source": [
    "import numpy  as np\n",
    "import matplotlib.pyplot as plt\n",
    "from tensorflow.keras.preprocessing.image import img_to_array, array_to_img, load_img\n",
    "import os\n",
    "import pandas as pd\n",
    "import pathlib\n",
    "from tensorflow.keras.utils import to_categorical\n",
    "import tensorflow as tf\n",
    "from tensorflow import keras\n",
    "from sklearn.model_selection import train_test_split\n",
    "from keras.models import Sequential\n",
    "from tensorflow import keras\n",
    "from sklearn.linear_model import SGDClassifier\n",
    "from keras.regularizers import l2\n",
    "from keras.layers import Conv2D, AveragePooling2D, Flatten, Dense,Activation, MaxPool2D, BatchNormalization, Dropout\n",
    "import tensorflow as tf\n",
    "from keras.callbacks import ReduceLROnPlateau"
   ]
  },
  {
   "cell_type": "code",
   "execution_count": 2,
   "id": "b9c08367",
   "metadata": {},
   "outputs": [],
   "source": [
    "# file_path : 데이터 셋 파일 경로\n",
    "# CATEGORIES : 데이터 셋 \n",
    "file_path = pathlib.Path('./dataset/')\n",
    "CATEGORIES = os.listdir(file_path)\n",
    "\n",
    "# 데이터 셋 파일 불러오기 함수 선언\n",
    "def load_data(data_dir):\n",
    "    # 이미지 데이터를 담을 리스트 선언\n",
    "    images = list()\n",
    "    # CATEGORIES에 동물 리스트 담겨있음\n",
    "    # 동물 하나하나의 폴더에 접근해 안에있는 이미지를 넘파이 배열로 전환\n",
    "    # 밑 코드는 그냥 이미지를 픽셀값으로 받아온다고만 이해하기\n",
    "    for category in CATEGORIES:\n",
    "        categories = os.path.join(data_dir, str(category))\n",
    "        for img in os.listdir(categories):\n",
    "            img = load_img(os.path.join(categories, img), target_size=(30, 30))\n",
    "            # 이미지를 넘파이 배열로 변환\n",
    "            image = img_to_array(img) \n",
    "            # images에 픽셀, 컬러 데이터 담기\n",
    "            images.append(image) \n",
    "    # 함수 선언하면 images 리턴\n",
    "    return images"
   ]
  },
  {
   "cell_type": "code",
   "execution_count": 3,
   "id": "361e74d2",
   "metadata": {},
   "outputs": [],
   "source": [
    "# 이미지 셋 불러오기\n",
    "# 위 선언한 함수에 file_path경로를 파라미터로 넘겨 images에 담기\n",
    "# 현재 images의 파일형식은 리스트\n",
    "images = load_data(file_path)\n",
    "\n",
    "# 타겟 셋 불러오기\n",
    "\n",
    "# target 리스트 선언\n",
    "target = []\n",
    "\n",
    "# CATEGORIES에 있는 동물 이름을 타겟으로 설정\n",
    "# 26179개의 이미지에 각각 타겟 설정\n",
    "for j in CATEGORIES:\n",
    "    path ='./dataset/{}'.format(j)\n",
    "    polder = os.listdir(path)\n",
    "    \n",
    "    # target에 타겟값 추가\n",
    "    for i in polder :\n",
    "        target.append(j)\n",
    "# 넘파이 배열로 변환\n",
    "target = np.array(target)\n",
    "\n",
    "# 데이터 셋 정규화\n",
    "# 넘파이 배열로 변환\n",
    "images = np.array(images)\n",
    "# 픽셀 값 정규화\n",
    "images = images / 255.0"
   ]
  },
  {
   "cell_type": "code",
   "execution_count": 4,
   "id": "cb570257",
   "metadata": {},
   "outputs": [
    {
     "name": "stdout",
     "output_type": "stream",
     "text": [
      "(26179, 30, 30, 3) (26179,)\n"
     ]
    }
   ],
   "source": [
    "# 26179의 행(이미지 개수임), 30, 30 : 픽셀(행 * 열), 3 : 색상(3 컬럼)\n",
    "print(images.shape,target.shape)"
   ]
  },
  {
   "cell_type": "code",
   "execution_count": 5,
   "id": "5d774f04",
   "metadata": {},
   "outputs": [],
   "source": [
    "# 훈련 및 테스트 데이터셋으로 분류하기(8:2) / 한번만 실행, 계속 실행하면 계속분리됨\n",
    "# 실수로 했다면 위 코드 다시 실행해 데이터 새로불러오기\n",
    "train_input, test_input, train_target, test_target = train_test_split(images, target, test_size=0.2)"
   ]
  },
  {
   "cell_type": "code",
   "execution_count": 6,
   "id": "bbd9dd5c",
   "metadata": {},
   "outputs": [
    {
     "name": "stdout",
     "output_type": "stream",
     "text": [
      "(20943, 30, 30, 3) (20943,)\n",
      "(5236, 30, 30, 3) (5236,)\n"
     ]
    }
   ],
   "source": [
    "print(train_input.shape, train_target.shape)\n",
    "print(test_input.shape, test_target.shape)"
   ]
  },
  {
   "cell_type": "code",
   "execution_count": 7,
   "id": "9b1a7c39",
   "metadata": {},
   "outputs": [],
   "source": [
    "# 훈련 및 검증 데이터셋으로 분류하기(8:2) / 한번만 실행, 계속 실행하면 계속분리됨\n",
    "# 실수로 했다면 위 코드 다시 실행해 데이터 새로불러오기\n",
    "train_input, val_input, train_target, val_target = train_test_split(train_input, train_target, test_size=0.2)"
   ]
  },
  {
   "cell_type": "code",
   "execution_count": 8,
   "id": "f77d2648",
   "metadata": {},
   "outputs": [
    {
     "name": "stdout",
     "output_type": "stream",
     "text": [
      "(16754, 30, 30, 3) (16754,)\n",
      "(4189, 30, 30, 3) (4189,)\n"
     ]
    }
   ],
   "source": [
    "print(train_input.shape,train_target.shape)\n",
    "print(val_input.shape,val_target.shape)"
   ]
  },
  {
   "cell_type": "code",
   "execution_count": 9,
   "id": "1ace0938",
   "metadata": {},
   "outputs": [
    {
     "name": "stdout",
     "output_type": "stream",
     "text": [
      "['butterfly' 'squirrel' 'spider' ... 'cow' 'cow' 'squirrel']\n",
      "['cat' 'cow' 'squirrel' ... 'spider' 'cow' 'cow']\n",
      "['cow' 'squirrel' 'dog' ... 'cat' 'cow' 'chicken']\n",
      "train_target =  [0 9 8 ... 3 3 9]\n",
      "val_target =  [1 3 9 ... 8 3 3]\n",
      "test_target =  [3 9 4 ... 1 3 2]\n"
     ]
    }
   ],
   "source": [
    "print(train_target)\n",
    "print(val_target)\n",
    "print(test_target)\n",
    "\n",
    "from sklearn.preprocessing import LabelEncoder\n",
    "le = LabelEncoder()\n",
    "le.fit(train_target)\n",
    "train_target = le.transform(train_target)\n",
    "print(\"train_target = \", train_target)\n",
    "\n",
    "le.fit(val_target)\n",
    "val_target = le.transform(val_target)\n",
    "print(\"val_target = \", val_target)\n",
    "\n",
    "le.fit(test_target)\n",
    "test_target = le.transform(test_target)\n",
    "print(\"test_target = \", test_target)\n",
    "\n",
    "#sparse 0,1,2,3,4 배열 형태 1차원\n",
    "#원핫인코딩 - 배열 안에 / 1차원 배열의 카테고리\n",
    "\n",
    "\n",
    "#1차원 안에 또 1차원의 리스트들이 들어가있다. 그 들어가있는 리스트 안에 0,1,0,0,1 원핫인코딩 들어있따\n",
    "#리스트 안에 리스트가 또 들어가있다.\n",
    "#binary => 1차원 형태 0,1 둘 중에 하나 \n",
    "\n"
   ]
  },
  {
   "cell_type": "code",
   "execution_count": 10,
   "id": "5d3981f1",
   "metadata": {},
   "outputs": [],
   "source": [
    "def bottleneck_residual_block(X, kernel_size, filters, reduce=False, s=2):\n",
    "    F1, F2, F3 = filters\n",
    "    X_shortcut = X\n",
    "    if reduce :\n",
    "        X_shortcut = Conv2D(filters = F3, kernel_size = (1, 1),\n",
    "                           strides = (s, s))(X_shortcut)\n",
    "        X_shortcut = BatchNormalization(axis = 3)(X_shortcut)\n",
    "        \n",
    "        X = Conv2D(filters = F1, kernel_size = (1, 1),\n",
    "                  strides = (s, s),\n",
    "                  padding = 'valid')(X)\n",
    "        X = BatchNormalization(axis = 3)(X)\n",
    "        X = Activation('relu')(X)\n",
    "        \n",
    "    else :\n",
    "        # 주 경로의 첫 번째 합성곱층\n",
    "        X = Conv2D(filters = F1, kernel_size = (1, 1), strides = (1, 1),\n",
    "                  padding = 'valid')(X)\n",
    "        X = BatchNormalization(axis = 3)(X)\n",
    "        X = Activation('relu')(X)\n",
    "        \n",
    "    # 주 경로의 두 번째 합성곱층\n",
    "    X = Conv2D(filters = F2, kernel_size = kernel_size, strides = (1, 1),\n",
    "                  padding = 'same')(X)\n",
    "    X = BatchNormalization(axis = 3)(X)\n",
    "    X = Activation('relu')(X)\n",
    "    \n",
    "    # 주 경로의 세 번째 합성곱층\n",
    "    X = Conv2D(filters = F3, kernel_size = (1, 1), strides = (1, 1),\n",
    "                  padding = 'valid')(X)\n",
    "    X = BatchNormalization(axis = 3)(X)\n",
    "    X = Activation('relu')(X)\n",
    "    \n",
    "    # 처리의 마지막 단계\n",
    "    X = Add()([X, X_shortcut])\n",
    "    X = Activation('relu')(X)\n",
    "    \n",
    "    return X"
   ]
  },
  {
   "cell_type": "code",
   "execution_count": 33,
   "id": "2111eba5",
   "metadata": {},
   "outputs": [
    {
     "ename": "NameError",
     "evalue": "name 'Add' is not defined",
     "output_type": "error",
     "traceback": [
      "\u001b[1;31m---------------------------------------------------------------------------\u001b[0m",
      "\u001b[1;31mNameError\u001b[0m                                 Traceback (most recent call last)",
      "Cell \u001b[1;32mIn[33], line 1\u001b[0m\n\u001b[1;32m----> 1\u001b[0m \u001b[43mbottleneck_residual_block\u001b[49m\u001b[43m(\u001b[49m\u001b[43mtrain_input\u001b[49m\u001b[43m,\u001b[49m\u001b[43m \u001b[49m\u001b[43m(\u001b[49m\u001b[38;5;241;43m3\u001b[39;49m\u001b[43m,\u001b[49m\u001b[43m \u001b[49m\u001b[38;5;241;43m3\u001b[39;49m\u001b[43m)\u001b[49m\u001b[43m,\u001b[49m\u001b[43m \u001b[49m\u001b[43m(\u001b[49m\u001b[38;5;241;43m30\u001b[39;49m\u001b[43m,\u001b[49m\u001b[43m \u001b[49m\u001b[38;5;241;43m30\u001b[39;49m\u001b[43m,\u001b[49m\u001b[43m \u001b[49m\u001b[38;5;241;43m30\u001b[39;49m\u001b[43m)\u001b[49m\u001b[43m)\u001b[49m\n",
      "Cell \u001b[1;32mIn[10], line 35\u001b[0m, in \u001b[0;36mbottleneck_residual_block\u001b[1;34m(X, kernel_size, filters, reduce, s)\u001b[0m\n\u001b[0;32m     32\u001b[0m X \u001b[38;5;241m=\u001b[39m Activation(\u001b[38;5;124m'\u001b[39m\u001b[38;5;124mrelu\u001b[39m\u001b[38;5;124m'\u001b[39m)(X)\n\u001b[0;32m     34\u001b[0m \u001b[38;5;66;03m# 처리의 마지막 단계\u001b[39;00m\n\u001b[1;32m---> 35\u001b[0m X \u001b[38;5;241m=\u001b[39m \u001b[43mAdd\u001b[49m()([X, X_shortcut])\n\u001b[0;32m     36\u001b[0m X \u001b[38;5;241m=\u001b[39m Activation(\u001b[38;5;124m'\u001b[39m\u001b[38;5;124mrelu\u001b[39m\u001b[38;5;124m'\u001b[39m)(X)\n\u001b[0;32m     38\u001b[0m \u001b[38;5;28;01mreturn\u001b[39;00m X\n",
      "\u001b[1;31mNameError\u001b[0m: name 'Add' is not defined"
     ]
    }
   ],
   "source": [
    "bottleneck_residual_block(train_input, (3, 3), (30, 30, 30))"
   ]
  },
  {
   "cell_type": "code",
   "execution_count": 11,
   "id": "95253807",
   "metadata": {},
   "outputs": [],
   "source": [
    "def ResNet50(input_shape, classes):\n",
    "    X_input = Input(input_shape)\n",
    "    \n",
    "    # 1단계\n",
    "    X = Conv2D(64, (7, 7), strides=(2, 2), name='conv1')(X_input)\n",
    "    X = BatchNormalization(axis=3, name='bn_conv1')(X)\n",
    "    X = Activation('relu')(X)\n",
    "    X = MaxPool2D((3, 3), strides=(2, 2))(X)\n",
    "    \n",
    "    # 2단계\n",
    "    X = bottleneck_residual_block(X, 3, [64, 64, 256], reduce=True, s=1)\n",
    "    X = bottleneck_residual_block(X, 3, [64, 64, 256])\n",
    "    X = bottleneck_residual_block(X, 3, [64, 64, 256])\n",
    "    \n",
    "    # 3단계\n",
    "    X = bottleneck_residual_block(X, 3, [128, 128, 512], reduce=True, s=2)\n",
    "    X = bottleneck_residual_block(X, 3, [128, 128, 512])\n",
    "    X = bottleneck_residual_block(X, 3, [128, 128, 512])\n",
    "    X = bottleneck_residual_block(X, 3, [128, 128, 512])\n",
    "    \n",
    "    # 4단계\n",
    "    X = bottleneck_residual_block(X, 3, [256, 256, 1024], reduce=True, s=2)\n",
    "    X = bottleneck_residual_block(X, 3, [256, 256, 1024])\n",
    "    X = bottleneck_residual_block(X, 3, [256, 256, 1024])\n",
    "    X = bottleneck_residual_block(X, 3, [256, 256, 1024])\n",
    "    X = bottleneck_residual_block(X, 3, [256, 256, 1024])\n",
    "    X = bottleneck_residual_block(X, 3, [256, 256, 1024])\n",
    "    \n",
    "    # 5단계\n",
    "    X = bottleneck_residual_block(X, 3, [512, 512, 2048], reduce=True, s=2)\n",
    "    X = bottleneck_residual_block(X, 3, [512, 512, 2048])\n",
    "    X = bottleneck_residual_block(X, 3, [512, 512, 2048])\n",
    "    \n",
    "    # 평균 풀링\n",
    "    X = AveragePooling2D((1,1))(X)\n",
    "    \n",
    "    # 출력층\n",
    "    X = Flatten()(X)\n",
    "    X = Dense(classes, activation='softmax', name='fc' + str(classes))(X)\n",
    "    \n",
    "    model = Model(inputs = X_input, outputs = X, name='ResNet50')\n",
    "    \n",
    "    return model"
   ]
  },
  {
   "cell_type": "code",
   "execution_count": 31,
   "id": "6d81accf",
   "metadata": {},
   "outputs": [
    {
     "ename": "SyntaxError",
     "evalue": "positional argument follows keyword argument (2245919407.py, line 16)",
     "output_type": "error",
     "traceback": [
      "\u001b[1;36m  Cell \u001b[1;32mIn[31], line 16\u001b[1;36m\u001b[0m\n\u001b[1;33m    model.fit(X_train, Y_train, batch_size=batch_size, validation_data=X_test, Y_test), epochs=epochs, callbacks=[reduce_lr]\u001b[0m\n\u001b[1;37m                                                                                     ^\u001b[0m\n\u001b[1;31mSyntaxError\u001b[0m\u001b[1;31m:\u001b[0m positional argument follows keyword argument\n"
     ]
    }
   ],
   "source": [
    "# 하이퍼 파라미터 설정하기\n",
    "\n",
    "from keras.callbacks import ReduceLROnPlateau\n",
    "\n",
    "# 학습 파라미터 정의\n",
    "epochs = 200\n",
    "batch_size = 256\n",
    "\n",
    "# min_lr은 학습률의 하한값이며, factor는 학습률을 감소시킬 배율이다.\n",
    "reduce_lr = ReduceLROnPlateau(monitor='val_loss', factor=np.sqrt(0.1),\n",
    "                             patience=5, min_lr=0.5e-6)\n",
    "# 모델을 컴파일한다\n",
    "model.compile(loss='categorical_crossentropy', optimizer=SGD,\n",
    "             metrics=['accuracy'])\n",
    "# reduce_lr을 콜백 함수로 지정해서 모델을 학습힌다.\n",
    "model.fit(X_train, Y_train, batch_size=batch_size, validation_data=X_test, Y_test), epochs=epochs, callbacks=[reduce_lr]"
   ]
  },
  {
   "cell_type": "code",
   "execution_count": 29,
   "id": "9ee4360b",
   "metadata": {},
   "outputs": [
    {
     "ename": "NameError",
     "evalue": "name 'model' is not defined",
     "output_type": "error",
     "traceback": [
      "\u001b[1;31m---------------------------------------------------------------------------\u001b[0m",
      "\u001b[1;31mNameError\u001b[0m                                 Traceback (most recent call last)",
      "Cell \u001b[1;32mIn[29], line 3\u001b[0m\n\u001b[0;32m      1\u001b[0m \u001b[38;5;28;01mfrom\u001b[39;00m \u001b[38;5;21;01mtensorflow\u001b[39;00m\u001b[38;5;21;01m.\u001b[39;00m\u001b[38;5;21;01mkeras\u001b[39;00m\u001b[38;5;21;01m.\u001b[39;00m\u001b[38;5;21;01mutils\u001b[39;00m \u001b[38;5;28;01mimport\u001b[39;00m plot_model\n\u001b[1;32m----> 3\u001b[0m keras\u001b[38;5;241m.\u001b[39mutils\u001b[38;5;241m.\u001b[39mplot_model(\u001b[43mmodel\u001b[49m)\n",
      "\u001b[1;31mNameError\u001b[0m: name 'model' is not defined"
     ]
    }
   ],
   "source": [
    "from tensorflow.keras.utils import plot_model\n",
    "\n",
    "keras.utils.plot_model(model)"
   ]
  },
  {
   "cell_type": "code",
   "execution_count": null,
   "id": "3520dc4a",
   "metadata": {},
   "outputs": [],
   "source": []
  },
  {
   "cell_type": "code",
   "execution_count": null,
   "id": "bff744b7",
   "metadata": {},
   "outputs": [],
   "source": []
  },
  {
   "cell_type": "code",
   "execution_count": null,
   "id": "40857279",
   "metadata": {},
   "outputs": [],
   "source": []
  },
  {
   "cell_type": "code",
   "execution_count": null,
   "id": "49d44705",
   "metadata": {},
   "outputs": [],
   "source": []
  },
  {
   "cell_type": "code",
   "execution_count": null,
   "id": "eb8ee9f8",
   "metadata": {},
   "outputs": [],
   "source": []
  }
 ],
 "metadata": {
  "kernelspec": {
   "display_name": "pknu_deep_kernel",
   "language": "python",
   "name": "pknu_depp"
  },
  "language_info": {
   "codemirror_mode": {
    "name": "ipython",
    "version": 3
   },
   "file_extension": ".py",
   "mimetype": "text/x-python",
   "name": "python",
   "nbconvert_exporter": "python",
   "pygments_lexer": "ipython3",
   "version": "3.9.16"
  }
 },
 "nbformat": 4,
 "nbformat_minor": 5
}
