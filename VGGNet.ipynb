{
 "cells": [
  {
   "cell_type": "code",
   "execution_count": 1,
   "id": "8978477c",
   "metadata": {},
   "outputs": [],
   "source": [
    "import numpy  as np\n",
    "import matplotlib.pyplot as plt\n",
    "from tensorflow.keras.preprocessing.image import img_to_array, array_to_img, load_img\n",
    "import os\n",
    "import pandas as pd\n",
    "import pathlib\n",
    "from tensorflow.keras.utils import to_categorical\n",
    "import tensorflow as tf\n",
    "from tensorflow import keras\n",
    "from sklearn.model_selection import train_test_split\n",
    "from keras.models import Sequential\n",
    "from tensorflow import keras\n",
    "from sklearn.linear_model import SGDClassifier\n",
    "from keras.regularizers import l2\n",
    "from keras.layers import Conv2D, AveragePooling2D, Flatten, Dense,Activation, MaxPool2D, BatchNormalization, Dropout\n",
    "import tensorflow as tf\n",
    "from keras.callbacks import ReduceLROnPlateau\n",
    "from sklearn.preprocessing import LabelEncoder"
   ]
  },
  {
   "cell_type": "code",
   "execution_count": 2,
   "id": "449f9e5e",
   "metadata": {},
   "outputs": [],
   "source": [
    "# file_path : 데이터 셋 파일 경로\n",
    "# CATEGORIES : 데이터 셋 \n",
    "file_path = pathlib.Path('./dataset/')\n",
    "CATEGORIES = os.listdir(file_path)\n",
    "\n",
    "# 데이터 셋 파일 불러오기 함수 선언\n",
    "def load_data(data_dir):\n",
    "    # 이미지 데이터를 담을 리스트 선언\n",
    "    images = list()\n",
    "    # CATEGORIES에 동물 리스트 담겨있음\n",
    "    # 동물 하나하나의 폴더에 접근해 안에있는 이미지를 넘파이 배열로 전환\n",
    "    # 밑 코드는 그냥 이미지를 픽셀값으로 받아온다고만 이해하기\n",
    "    for category in CATEGORIES:\n",
    "        categories = os.path.join(data_dir, str(category))\n",
    "        for img in os.listdir(categories):\n",
    "            img = load_img(os.path.join(categories, img), target_size=(30, 30))\n",
    "            # 이미지를 넘파이 배열로 변환\n",
    "            image = img_to_array(img) \n",
    "            # images에 픽셀, 컬러 데이터 담기\n",
    "            images.append(image) \n",
    "    # 함수 선언하면 images 리턴\n",
    "    return images"
   ]
  },
  {
   "cell_type": "code",
   "execution_count": 3,
   "id": "70adc1fe",
   "metadata": {},
   "outputs": [
    {
     "name": "stdout",
     "output_type": "stream",
     "text": [
      "(26179, 30, 30, 3) (26179,)\n"
     ]
    }
   ],
   "source": [
    "# 이미지 셋 불러오기\n",
    "# 위 선언한 함수에 file_path경로를 파라미터로 넘겨 images에 담기\n",
    "# 현재 images의 파일형식은 리스트\n",
    "images = load_data(file_path)\n",
    "\n",
    "\n",
    "# 타겟 셋 불러오기\n",
    "# target 리스트 선언\n",
    "target = []\n",
    "\n",
    "# CATEGORIES에 있는 동물 이름을 타겟으로 설정\n",
    "# 26179개의 이미지에 각각 타겟 설정\n",
    "for j in CATEGORIES:\n",
    "    path ='./dataset/{}'.format(j)\n",
    "    polder = os.listdir(path)\n",
    "    \n",
    "    # target에 타겟값 추가\n",
    "    for i in polder :\n",
    "        target.append(j)\n",
    "# 넘파이 배열로 변환\n",
    "target = np.array(target)\n",
    "\n",
    "# 데이터 셋 정규화\n",
    "# 넘파이 배열로 변환\n",
    "images = np.array(images)\n",
    "# 픽셀 값 정규화\n",
    "images = images / 255.0\n",
    "\n",
    "# 26179의 행(이미지 개수임), 30, 30 : 픽셀(행 * 열), 3 : 색상(3 컬럼)\n",
    "print(images.shape,target.shape)"
   ]
  },
  {
   "cell_type": "code",
   "execution_count": 4,
   "id": "b9f7cfa6",
   "metadata": {},
   "outputs": [
    {
     "name": "stdout",
     "output_type": "stream",
     "text": [
      "(20943, 30, 30, 3) (20943,)\n",
      "(5236, 30, 30, 3) (5236,)\n",
      "(16754, 30, 30, 3) (16754,)\n",
      "(4189, 30, 30, 3) (4189,)\n"
     ]
    }
   ],
   "source": [
    "# 훈련 및 테스트 데이터셋으로 분류하기(8:2) / 한번만 실행, 계속 실행하면 계속분리됨\n",
    "# 실수로 했다면 위 코드 다시 실행해 데이터 새로불러오기\n",
    "train_input, test_input, train_target, test_target = train_test_split(images, target, test_size=0.2)\n",
    "\n",
    "print(train_input.shape,train_target.shape)\n",
    "print(test_input.shape,test_target.shape)\n",
    "\n",
    "# 훈련 및 검증 데이터셋으로 분류하기(8:2) / 한번만 실행, 계속 실행하면 계속분리됨\n",
    "# 실수로 했다면 위 코드 다시 실행해 데이터 새로불러오기\n",
    "train_input, val_input, train_target, val_target = train_test_split(train_input, train_target, test_size=0.2)\n",
    "\n",
    "print(train_input.shape,train_target.shape)\n",
    "print(val_input.shape,val_target.shape)"
   ]
  },
  {
   "cell_type": "code",
   "execution_count": 5,
   "id": "1ee99a2b",
   "metadata": {},
   "outputs": [
    {
     "name": "stdout",
     "output_type": "stream",
     "text": [
      "['spider' 'spider' 'dog' ... 'sheep' 'elephant' 'horse']\n",
      "['horse' 'sheep' 'elephant' ... 'spider' 'cat' 'dog']\n",
      "['chicken' 'butterfly' 'dog' ... 'elephant' 'dog' 'cat']\n",
      "train_target =  [8 8 4 ... 7 5 6]\n",
      "val_target =  [6 7 5 ... 8 1 4]\n",
      "test_target =  [2 0 4 ... 5 4 1]\n"
     ]
    }
   ],
   "source": [
    "# 타겟 데이터를 숫자형으로 바꿔야함\n",
    "print(train_target)\n",
    "print(val_target)\n",
    "print(test_target)\n",
    "\n",
    "\n",
    "le = LabelEncoder()\n",
    "\n",
    "le.fit(train_target)\n",
    "train_target = le.transform(train_target)\n",
    "print(\"train_target = \", train_target)\n",
    "\n",
    "le.fit(val_target)\n",
    "val_target = le.transform(val_target)\n",
    "print(\"val_target = \", val_target)\n",
    "\n",
    "le.fit(test_target)\n",
    "test_target = le.transform(test_target)\n",
    "print(\"test_target = \", test_target)"
   ]
  },
  {
   "cell_type": "code",
   "execution_count": 11,
   "id": "78f75e3f",
   "metadata": {},
   "outputs": [
    {
     "ename": "ValueError",
     "evalue": "Exception encountered when calling layer \"max_pooling2d_8\" (type MaxPooling2D).\n\nNegative dimension size caused by subtracting 2 from 1 for '{{node max_pooling2d_8/MaxPool}} = MaxPool[T=DT_FLOAT, data_format=\"NHWC\", explicit_paddings=[], ksize=[1, 2, 2, 1], padding=\"VALID\", strides=[1, 2, 2, 1]](Placeholder)' with input shapes: [?,1,1,512].\n\nCall arguments received:\n  • inputs=tf.Tensor(shape=(None, 1, 1, 512), dtype=float32)",
     "output_type": "error",
     "traceback": [
      "\u001b[1;31m---------------------------------------------------------------------------\u001b[0m",
      "\u001b[1;31mValueError\u001b[0m                                Traceback (most recent call last)",
      "Cell \u001b[1;32mIn[11], line 55\u001b[0m\n\u001b[0;32m     49\u001b[0m model\u001b[38;5;241m.\u001b[39madd(Conv2D(filters \u001b[38;5;241m=\u001b[39m \u001b[38;5;241m512\u001b[39m, kernel_size \u001b[38;5;241m=\u001b[39m (\u001b[38;5;241m3\u001b[39m, \u001b[38;5;241m3\u001b[39m), strides \u001b[38;5;241m=\u001b[39m (\u001b[38;5;241m1\u001b[39m, \u001b[38;5;241m1\u001b[39m),\n\u001b[0;32m     50\u001b[0m                 activation\u001b[38;5;241m=\u001b[39m\u001b[38;5;124m'\u001b[39m\u001b[38;5;124mrelu\u001b[39m\u001b[38;5;124m'\u001b[39m,\n\u001b[0;32m     51\u001b[0m                 padding\u001b[38;5;241m=\u001b[39m\u001b[38;5;124m'\u001b[39m\u001b[38;5;124msame\u001b[39m\u001b[38;5;124m'\u001b[39m))\n\u001b[0;32m     52\u001b[0m model\u001b[38;5;241m.\u001b[39madd(Conv2D(filters \u001b[38;5;241m=\u001b[39m \u001b[38;5;241m512\u001b[39m, kernel_size \u001b[38;5;241m=\u001b[39m (\u001b[38;5;241m3\u001b[39m, \u001b[38;5;241m3\u001b[39m), strides \u001b[38;5;241m=\u001b[39m (\u001b[38;5;241m1\u001b[39m, \u001b[38;5;241m1\u001b[39m),\n\u001b[0;32m     53\u001b[0m                 activation\u001b[38;5;241m=\u001b[39m\u001b[38;5;124m'\u001b[39m\u001b[38;5;124mrelu\u001b[39m\u001b[38;5;124m'\u001b[39m,\n\u001b[0;32m     54\u001b[0m                 padding\u001b[38;5;241m=\u001b[39m\u001b[38;5;124m'\u001b[39m\u001b[38;5;124msame\u001b[39m\u001b[38;5;124m'\u001b[39m))\n\u001b[1;32m---> 55\u001b[0m \u001b[43mmodel\u001b[49m\u001b[38;5;241;43m.\u001b[39;49m\u001b[43madd\u001b[49m\u001b[43m(\u001b[49m\u001b[43mMaxPool2D\u001b[49m\u001b[43m(\u001b[49m\u001b[43m(\u001b[49m\u001b[38;5;241;43m2\u001b[39;49m\u001b[43m,\u001b[49m\u001b[38;5;241;43m2\u001b[39;49m\u001b[43m)\u001b[49m\u001b[43m,\u001b[49m\u001b[43m \u001b[49m\u001b[43mstrides\u001b[49m\u001b[38;5;241;43m=\u001b[39;49m\u001b[43m(\u001b[49m\u001b[38;5;241;43m2\u001b[39;49m\u001b[43m,\u001b[49m\u001b[38;5;241;43m2\u001b[39;49m\u001b[43m)\u001b[49m\u001b[43m)\u001b[49m\u001b[43m)\u001b[49m\n\u001b[0;32m     57\u001b[0m \u001b[38;5;66;03m# 블록 #6 (분류기)\u001b[39;00m\n\u001b[0;32m     58\u001b[0m model\u001b[38;5;241m.\u001b[39madd(Flatten())\n",
      "File \u001b[1;32m~\\anaconda3\\envs\\pknu_deep\\lib\\site-packages\\tensorflow\\python\\training\\tracking\\base.py:629\u001b[0m, in \u001b[0;36mno_automatic_dependency_tracking.<locals>._method_wrapper\u001b[1;34m(self, *args, **kwargs)\u001b[0m\n\u001b[0;32m    627\u001b[0m \u001b[38;5;28mself\u001b[39m\u001b[38;5;241m.\u001b[39m_self_setattr_tracking \u001b[38;5;241m=\u001b[39m \u001b[38;5;28;01mFalse\u001b[39;00m  \u001b[38;5;66;03m# pylint: disable=protected-access\u001b[39;00m\n\u001b[0;32m    628\u001b[0m \u001b[38;5;28;01mtry\u001b[39;00m:\n\u001b[1;32m--> 629\u001b[0m   result \u001b[38;5;241m=\u001b[39m method(\u001b[38;5;28mself\u001b[39m, \u001b[38;5;241m*\u001b[39margs, \u001b[38;5;241m*\u001b[39m\u001b[38;5;241m*\u001b[39mkwargs)\n\u001b[0;32m    630\u001b[0m \u001b[38;5;28;01mfinally\u001b[39;00m:\n\u001b[0;32m    631\u001b[0m   \u001b[38;5;28mself\u001b[39m\u001b[38;5;241m.\u001b[39m_self_setattr_tracking \u001b[38;5;241m=\u001b[39m previous_value  \u001b[38;5;66;03m# pylint: disable=protected-access\u001b[39;00m\n",
      "File \u001b[1;32m~\\anaconda3\\envs\\pknu_deep\\lib\\site-packages\\keras\\utils\\traceback_utils.py:67\u001b[0m, in \u001b[0;36mfilter_traceback.<locals>.error_handler\u001b[1;34m(*args, **kwargs)\u001b[0m\n\u001b[0;32m     65\u001b[0m \u001b[38;5;28;01mexcept\u001b[39;00m \u001b[38;5;167;01mException\u001b[39;00m \u001b[38;5;28;01mas\u001b[39;00m e:  \u001b[38;5;66;03m# pylint: disable=broad-except\u001b[39;00m\n\u001b[0;32m     66\u001b[0m   filtered_tb \u001b[38;5;241m=\u001b[39m _process_traceback_frames(e\u001b[38;5;241m.\u001b[39m__traceback__)\n\u001b[1;32m---> 67\u001b[0m   \u001b[38;5;28;01mraise\u001b[39;00m e\u001b[38;5;241m.\u001b[39mwith_traceback(filtered_tb) \u001b[38;5;28;01mfrom\u001b[39;00m \u001b[38;5;28mNone\u001b[39m\n\u001b[0;32m     68\u001b[0m \u001b[38;5;28;01mfinally\u001b[39;00m:\n\u001b[0;32m     69\u001b[0m   \u001b[38;5;28;01mdel\u001b[39;00m filtered_tb\n",
      "File \u001b[1;32m~\\anaconda3\\envs\\pknu_deep\\lib\\site-packages\\tensorflow\\python\\framework\\ops.py:2013\u001b[0m, in \u001b[0;36m_create_c_op\u001b[1;34m(graph, node_def, inputs, control_inputs, op_def)\u001b[0m\n\u001b[0;32m   2010\u001b[0m   c_op \u001b[38;5;241m=\u001b[39m pywrap_tf_session\u001b[38;5;241m.\u001b[39mTF_FinishOperation(op_desc)\n\u001b[0;32m   2011\u001b[0m \u001b[38;5;28;01mexcept\u001b[39;00m errors\u001b[38;5;241m.\u001b[39mInvalidArgumentError \u001b[38;5;28;01mas\u001b[39;00m e:\n\u001b[0;32m   2012\u001b[0m   \u001b[38;5;66;03m# Convert to ValueError for backwards compatibility.\u001b[39;00m\n\u001b[1;32m-> 2013\u001b[0m   \u001b[38;5;28;01mraise\u001b[39;00m \u001b[38;5;167;01mValueError\u001b[39;00m(e\u001b[38;5;241m.\u001b[39mmessage)\n\u001b[0;32m   2015\u001b[0m \u001b[38;5;28;01mreturn\u001b[39;00m c_op\n",
      "\u001b[1;31mValueError\u001b[0m: Exception encountered when calling layer \"max_pooling2d_8\" (type MaxPooling2D).\n\nNegative dimension size caused by subtracting 2 from 1 for '{{node max_pooling2d_8/MaxPool}} = MaxPool[T=DT_FLOAT, data_format=\"NHWC\", explicit_paddings=[], ksize=[1, 2, 2, 1], padding=\"VALID\", strides=[1, 2, 2, 1]](Placeholder)' with input shapes: [?,1,1,512].\n\nCall arguments received:\n  • inputs=tf.Tensor(shape=(None, 1, 1, 512), dtype=float32)"
     ]
    }
   ],
   "source": [
    "model = Sequential()\n",
    "\n",
    "# 블록 #1\n",
    "model.add(Conv2D(filters = 64, kernel_size = (3, 3), strides = (1, 1),\n",
    "                activation='relu',\n",
    "                padding='same', input_shape = (30, 30, 3)))\n",
    "model.add(Conv2D(filters = 64, kernel_size = (3, 3), strides = (1, 1),\n",
    "                activation='relu',\n",
    "                padding='same'))\n",
    "model.add(MaxPool2D((2,2), strides=(2,2)))\n",
    "\n",
    "# 블록 #2\n",
    "model.add(Conv2D(filters = 128, kernel_size = (3, 3), strides = (1, 1),\n",
    "                activation='relu',\n",
    "                padding='same'))\n",
    "model.add(Conv2D(filters = 128, kernel_size = (3, 3), strides = (1, 1),\n",
    "                activation='relu',\n",
    "                padding='same'))\n",
    "model.add(MaxPool2D((2,2), strides=(2,2)))\n",
    "\n",
    "# 블록 #3\n",
    "model.add(Conv2D(filters = 256, kernel_size = (3, 3), strides = (1, 1),\n",
    "                activation='relu',\n",
    "                padding='same'))\n",
    "model.add(Conv2D(filters = 256, kernel_size = (3, 3), strides = (1, 1),\n",
    "                activation='relu',\n",
    "                padding='same'))\n",
    "model.add(Conv2D(filters = 256, kernel_size = (3, 3), strides = (1, 1),\n",
    "                activation='relu',\n",
    "                padding='same'))\n",
    "model.add(MaxPool2D((2,2), strides=(2,2)))\n",
    "\n",
    "# 블록 #4\n",
    "model.add(Conv2D(filters = 512, kernel_size = (3, 3), strides = (1, 1),\n",
    "                activation='relu',\n",
    "                padding='same'))\n",
    "model.add(Conv2D(filters = 512, kernel_size = (3, 3), strides = (1, 1),\n",
    "                activation='relu',\n",
    "                padding='same'))\n",
    "model.add(Conv2D(filters = 512, kernel_size = (3, 3), strides = (1, 1),\n",
    "                activation='relu',\n",
    "                padding='same'))\n",
    "model.add(MaxPool2D((2,2), strides=(2,2)))\n",
    "\n",
    "# 블록 #5\n",
    "model.add(Conv2D(filters = 512, kernel_size = (3, 3), strides = (1, 1),\n",
    "                activation='relu',\n",
    "                padding='same'))\n",
    "model.add(Conv2D(filters = 512, kernel_size = (3, 3), strides = (1, 1),\n",
    "                activation='relu',\n",
    "                padding='same'))\n",
    "model.add(Conv2D(filters = 512, kernel_size = (3, 3), strides = (1, 1),\n",
    "                activation='relu',\n",
    "                padding='same'))\n",
    "model.add(MaxPool2D((2,2), strides=(2,2)))\n",
    "\n",
    "# 블록 #6 (분류기)\n",
    "model.add(Flatten())\n",
    "model.add(Dense(4096, activation='relu'))\n",
    "model.add(Dropout(0.5))\n",
    "model.add(Dense(4096, activation='relu'))\n",
    "model.add(Dropout(0.5))\n",
    "model.add(Dense(10, activation='softmax'))\n",
    "\n",
    "model.summary()"
   ]
  },
  {
   "cell_type": "code",
   "execution_count": null,
   "id": "a117505a",
   "metadata": {},
   "outputs": [],
   "source": [
    "from tensorflow.keras.utils import plot_model\n",
    "\n",
    "keras.utils.plot_model(model)"
   ]
  },
  {
   "cell_type": "code",
   "execution_count": null,
   "id": "8b0abb10",
   "metadata": {},
   "outputs": [],
   "source": [
    "### 검증 오차가 정체될 때마다 학숩률을 1/10로 감소한다\n",
    "reduce_lr = ReduceLROnPlateau(monitor='val_loss', factor=np.sqrt(0.1))\n",
    "\n",
    "### SGD 옵티마이저를 학습률 0.01, 모멘텀 0.9로 설정한다\n",
    "optimizer = tf.keras.optimizers.SGD(lr=0.01, momentum=0.9)"
   ]
  },
  {
   "cell_type": "code",
   "execution_count": null,
   "id": "1dc6b7cd",
   "metadata": {},
   "outputs": [],
   "source": [
    "### 모델을 컴파일한다\n",
    "model.compile(loss='sparse_categorical_crossentropy', optimizer=optimizer,\n",
    "              metrics=['accuracy'])\n",
    "\n",
    "### 모델을 학습하고 콜백함수로 설정된 reduce_lr을 이용해 학습률을 감소한다\n",
    "history  = model.fit(train_input, train_target, batch_size=128, epochs=90,\n",
    "          validation_data=(val_input, val_target), verbose=1, callbacks=[reduce_lr])"
   ]
  },
  {
   "cell_type": "code",
   "execution_count": null,
   "id": "851dd062",
   "metadata": {},
   "outputs": [],
   "source": []
  },
  {
   "cell_type": "code",
   "execution_count": null,
   "id": "98ea5dd2",
   "metadata": {},
   "outputs": [],
   "source": []
  },
  {
   "cell_type": "code",
   "execution_count": null,
   "id": "5460ca3e",
   "metadata": {},
   "outputs": [],
   "source": []
  },
  {
   "cell_type": "code",
   "execution_count": null,
   "id": "53e7a3b0",
   "metadata": {},
   "outputs": [],
   "source": []
  },
  {
   "cell_type": "code",
   "execution_count": null,
   "id": "77f2808d",
   "metadata": {},
   "outputs": [],
   "source": []
  },
  {
   "cell_type": "code",
   "execution_count": null,
   "id": "7472ee83",
   "metadata": {},
   "outputs": [],
   "source": []
  },
  {
   "cell_type": "code",
   "execution_count": null,
   "id": "830c09aa",
   "metadata": {},
   "outputs": [],
   "source": []
  },
  {
   "cell_type": "code",
   "execution_count": null,
   "id": "49d226c7",
   "metadata": {},
   "outputs": [],
   "source": []
  },
  {
   "cell_type": "code",
   "execution_count": null,
   "id": "aa81587b",
   "metadata": {},
   "outputs": [],
   "source": []
  },
  {
   "cell_type": "code",
   "execution_count": null,
   "id": "dda66ea5",
   "metadata": {},
   "outputs": [],
   "source": []
  },
  {
   "cell_type": "code",
   "execution_count": null,
   "id": "105b0dcf",
   "metadata": {},
   "outputs": [],
   "source": []
  },
  {
   "cell_type": "code",
   "execution_count": null,
   "id": "34172b5e",
   "metadata": {},
   "outputs": [],
   "source": []
  },
  {
   "cell_type": "code",
   "execution_count": null,
   "id": "86fe9d75",
   "metadata": {},
   "outputs": [],
   "source": []
  },
  {
   "cell_type": "code",
   "execution_count": null,
   "id": "cc5c5907",
   "metadata": {},
   "outputs": [],
   "source": []
  },
  {
   "cell_type": "code",
   "execution_count": null,
   "id": "33f5ba4a",
   "metadata": {},
   "outputs": [],
   "source": []
  },
  {
   "cell_type": "code",
   "execution_count": null,
   "id": "afa115dd",
   "metadata": {},
   "outputs": [],
   "source": []
  },
  {
   "cell_type": "code",
   "execution_count": null,
   "id": "10dfab4d",
   "metadata": {},
   "outputs": [],
   "source": []
  },
  {
   "cell_type": "code",
   "execution_count": null,
   "id": "194ce6dc",
   "metadata": {},
   "outputs": [],
   "source": []
  },
  {
   "cell_type": "code",
   "execution_count": null,
   "id": "0b359698",
   "metadata": {},
   "outputs": [],
   "source": []
  },
  {
   "cell_type": "code",
   "execution_count": null,
   "id": "a22a70f1",
   "metadata": {},
   "outputs": [],
   "source": []
  },
  {
   "cell_type": "code",
   "execution_count": null,
   "id": "6bcd1434",
   "metadata": {},
   "outputs": [],
   "source": []
  },
  {
   "cell_type": "code",
   "execution_count": null,
   "id": "23bcab36",
   "metadata": {},
   "outputs": [],
   "source": []
  },
  {
   "cell_type": "code",
   "execution_count": null,
   "id": "8b5fba24",
   "metadata": {},
   "outputs": [],
   "source": []
  },
  {
   "cell_type": "code",
   "execution_count": null,
   "id": "15cb86da",
   "metadata": {},
   "outputs": [],
   "source": []
  },
  {
   "cell_type": "code",
   "execution_count": null,
   "id": "b6debdbe",
   "metadata": {},
   "outputs": [],
   "source": []
  }
 ],
 "metadata": {
  "kernelspec": {
   "display_name": "pknu_deep_kernel",
   "language": "python",
   "name": "pknu_deep"
  },
  "language_info": {
   "codemirror_mode": {
    "name": "ipython",
    "version": 3
   },
   "file_extension": ".py",
   "mimetype": "text/x-python",
   "name": "python",
   "nbconvert_exporter": "python",
   "pygments_lexer": "ipython3",
   "version": "3.9.16"
  }
 },
 "nbformat": 4,
 "nbformat_minor": 5
}
