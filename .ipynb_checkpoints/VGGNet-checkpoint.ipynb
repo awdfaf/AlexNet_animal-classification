{
 "cells": [
  {
   "cell_type": "code",
   "execution_count": null,
   "id": "ce6653cc",
   "metadata": {},
   "outputs": [],
   "source": [
    "import numpy  as np\n",
    "import matplotlib.pyplot as plt\n",
    "from tensorflow.keras.preprocessing.image import img_to_array, array_to_img, load_img\n",
    "import os\n",
    "import pandas as pd\n",
    "import pathlib\n",
    "from tensorflow.keras.utils import to_categorical\n",
    "import tensorflow as tf\n",
    "from tensorflow import keras\n",
    "from sklearn.model_selection import train_test_split\n",
    "from keras.models import Sequential\n",
    "from tensorflow import keras\n",
    "from sklearn.linear_model import SGDClassifier\n",
    "from keras.regularizers import l2\n",
    "from keras.layers import Conv2D, AveragePooling2D, Flatten, Dense,Activation, MaxPool2D, BatchNormalization, Dropout\n",
    "import tensorflow as tf\n",
    "from keras.callbacks import ReduceLROnPlateau\n",
    "from sklearn.preprocessing import LabelEncoder"
   ]
  },
  {
   "cell_type": "code",
   "execution_count": null,
   "id": "c95b847c",
   "metadata": {},
   "outputs": [],
   "source": [
    "# file_path : 데이터 셋 파일 경로\n",
    "# CATEGORIES : 데이터 셋 \n",
    "file_path = pathlib.Path('./dataset/')\n",
    "CATEGORIES = os.listdir(file_path)\n",
    "\n",
    "# 데이터 셋 파일 불러오기 함수 선언\n",
    "def load_data(data_dir):\n",
    "    # 이미지 데이터를 담을 리스트 선언\n",
    "    images = list()\n",
    "    # CATEGORIES에 동물 리스트 담겨있음\n",
    "    # 동물 하나하나의 폴더에 접근해 안에있는 이미지를 넘파이 배열로 전환\n",
    "    # 밑 코드는 그냥 이미지를 픽셀값으로 받아온다고만 이해하기\n",
    "    for category in CATEGORIES:\n",
    "        categories = os.path.join(data_dir, str(category))\n",
    "        for img in os.listdir(categories):\n",
    "            img = load_img(os.path.join(categories, img), target_size=(30, 30))\n",
    "            # 이미지를 넘파이 배열로 변환\n",
    "            image = img_to_array(img) \n",
    "            # images에 픽셀, 컬러 데이터 담기\n",
    "            images.append(image) \n",
    "    # 함수 선언하면 images 리턴\n",
    "    return images"
   ]
  },
  {
   "cell_type": "code",
   "execution_count": null,
   "id": "ec400409",
   "metadata": {},
   "outputs": [],
   "source": [
    "# 이미지 셋 불러오기\n",
    "# 위 선언한 함수에 file_path경로를 파라미터로 넘겨 images에 담기\n",
    "# 현재 images의 파일형식은 리스트\n",
    "images = load_data(file_path)\n",
    "\n",
    "\n",
    "# 타겟 셋 불러오기\n",
    "# target 리스트 선언\n",
    "target = []\n",
    "\n",
    "# CATEGORIES에 있는 동물 이름을 타겟으로 설정\n",
    "# 26179개의 이미지에 각각 타겟 설정\n",
    "for j in CATEGORIES:\n",
    "    path ='./dataset/{}'.format(j)\n",
    "    polder = os.listdir(path)\n",
    "    \n",
    "    # target에 타겟값 추가\n",
    "    for i in polder :\n",
    "        target.append(j)\n",
    "# 넘파이 배열로 변환\n",
    "target = np.array(target)\n",
    "\n",
    "# 데이터 셋 정규화\n",
    "# 넘파이 배열로 변환\n",
    "images = np.array(images)\n",
    "# 픽셀 값 정규화\n",
    "images = images / 255.0\n",
    "\n",
    "# 26179의 행(이미지 개수임), 30, 30 : 픽셀(행 * 열), 3 : 색상(3 컬럼)\n",
    "print(images.shape,target.shape)"
   ]
  },
  {
   "cell_type": "code",
   "execution_count": null,
   "id": "57309fd5",
   "metadata": {},
   "outputs": [],
   "source": [
    "# 훈련 및 테스트 데이터셋으로 분류하기(8:2) / 한번만 실행, 계속 실행하면 계속분리됨\n",
    "# 실수로 했다면 위 코드 다시 실행해 데이터 새로불러오기\n",
    "train_input, test_input, train_target, test_target = train_test_split(images, target, test_size=0.2)\n",
    "\n",
    "print(train_input.shape,train_target.shape)\n",
    "print(test_input.shape,test_target.shape)\n",
    "\n",
    "# 훈련 및 검증 데이터셋으로 분류하기(8:2) / 한번만 실행, 계속 실행하면 계속분리됨\n",
    "# 실수로 했다면 위 코드 다시 실행해 데이터 새로불러오기\n",
    "train_input, val_input, train_target, val_target = train_test_split(train_input, train_target, test_size=0.2)\n",
    "\n",
    "print(train_input.shape,train_target.shape)\n",
    "print(val_input.shape,val_target.shape)"
   ]
  },
  {
   "cell_type": "code",
   "execution_count": null,
   "id": "2ed16b15",
   "metadata": {},
   "outputs": [],
   "source": [
    "# 타겟 데이터를 숫자형으로 바꿔야함\n",
    "print(train_target)\n",
    "print(val_target)\n",
    "print(test_target)\n",
    "\n",
    "\n",
    "le = LabelEncoder()\n",
    "\n",
    "le.fit(train_target)\n",
    "train_target = le.transform(train_target)\n",
    "print(\"train_target = \", train_target)\n",
    "\n",
    "le.fit(val_target)\n",
    "val_target = le.transform(val_target)\n",
    "print(\"val_target = \", val_target)\n",
    "\n",
    "le.fit(test_target)\n",
    "test_target = le.transform(test_target)\n",
    "print(\"test_target = \", test_target)"
   ]
  },
  {
   "cell_type": "code",
   "execution_count": null,
   "id": "5ae001ed",
   "metadata": {},
   "outputs": [],
   "source": [
    "model = Sequential()\n",
    "\n",
    "# 블록 #1\n",
    "model.add(Conv2D(filters = 64, kernel_size = (3, 3), strides = (1, 1),\n",
    "                activation='relu',\n",
    "                padding='same', input_shape = (30, 30, 3)))\n",
    "model.add(Conv2D(filters = 64, kernel_size = (3, 3), strides = (1, 1),\n",
    "                activation='relu',\n",
    "                padding='same'))\n",
    "model.add(MAxPool2D((2,2), strides=(2,2)))\n",
    "\n",
    "# 블록 #2\n",
    "model.add(Conv2D(filters = 128, kernel_size = (3, 3), strides = (1, 1),\n",
    "                activation='relu',\n",
    "                padding='same'))\n",
    "model.add(Conv2D(filters = 128, kernel_size = (3, 3), strides = (1, 1),\n",
    "                activation='relu',\n",
    "                padding='same'))\n",
    "model.add(MAxPool2D((2,2), strides=(2,2)))\n",
    "\n",
    "# 블록 #3\n",
    "model.add(Conv2D(filters = 256, kernel_size = (3, 3), strides = (1, 1),\n",
    "                activation='relu',\n",
    "                padding='same'))\n",
    "model.add(Conv2D(filters = 256, kernel_size = (3, 3), strides = (1, 1),\n",
    "                activation='relu',\n",
    "                padding='same'))\n",
    "model.add(Conv2D(filters = 256, kernel_size = (3, 3), strides = (1, 1),\n",
    "                activation='relu',\n",
    "                padding='same'))\n",
    "model.add(MAxPool2D((2,2), strides=(2,2)))\n",
    "\n",
    "# 블록 #4\n",
    "model.add(Conv2D(filters = 512, kernel_size = (3, 3), strides = (1, 1),\n",
    "                activation='relu',\n",
    "                padding='same'))\n",
    "model.add(Conv2D(filters = 512, kernel_size = (3, 3), strides = (1, 1),\n",
    "                activation='relu',\n",
    "                padding='same'))\n",
    "model.add(Conv2D(filters = 512, kernel_size = (3, 3), strides = (1, 1),\n",
    "                activation='relu',\n",
    "                padding='same'))\n",
    "model.add(MAxPool2D((2,2), strides=(2,2)))\n",
    "\n",
    "# 블록 #5\n",
    "model.add(Conv2D(filters = 512, kernel_size = (3, 3), strides = (1, 1),\n",
    "                activation='relu',\n",
    "                padding='same'))\n",
    "model.add(Conv2D(filters = 512, kernel_size = (3, 3), strides = (1, 1),\n",
    "                activation='relu',\n",
    "                padding='same'))\n",
    "model.add(Conv2D(filters = 512, kernel_size = (3, 3), strides = (1, 1),\n",
    "                activation='relu',\n",
    "                padding='same'))\n",
    "model.add(MAxPool2D((2,2), strides=(2,2)))\n",
    "\n",
    "# 블록 #6 (분류기)\n",
    "model.add(Flatten())\n",
    "model.add(Dense(4096, activation='relu'))\n",
    "model.add(Dropout(0.5))\n",
    "model.add(Dense(4096, activation='relu'))\n",
    "model.add(Dropout(0.5))\n",
    "model.add(Dense(10, activation='softmax'))\n",
    "\n",
    "model.summary()"
   ]
  },
  {
   "cell_type": "code",
   "execution_count": null,
   "id": "416e658f",
   "metadata": {},
   "outputs": [],
   "source": [
    "from tensorflow.keras.utils import plot_model\n",
    "\n",
    "keras.utils.plot_model(model)"
   ]
  },
  {
   "cell_type": "code",
   "execution_count": null,
   "id": "33b2e7ef",
   "metadata": {},
   "outputs": [],
   "source": [
    "### 검증 오차가 정체될 때마다 학숩률을 1/10로 감소한다\n",
    "reduce_lr = ReduceLROnPlateau(monitor='val_loss', factor=np.sqrt(0.1))\n",
    "\n",
    "### SGD 옵티마이저를 학습률 0.01, 모멘텀 0.9로 설정한다\n",
    "optimizer = tf.keras.optimizers.SGD(lr=0.01, momentum=0.9)"
   ]
  },
  {
   "cell_type": "code",
   "execution_count": null,
   "id": "8f6fbafa",
   "metadata": {},
   "outputs": [],
   "source": [
    "### 모델을 컴파일한다\n",
    "model.compile(loss='sparse_categorical_crossentropy', optimizer=optimizer,\n",
    "              metrics=['accuracy'])\n",
    "\n",
    "### 모델을 학습하고 콜백함수로 설정된 reduce_lr을 이용해 학습률을 감소한다\n",
    "history  = model.fit(train_input, train_target, batch_size=128, epochs=90,\n",
    "          validation_data=(val_input, val_target), verbose=1, callbacks=[reduce_lr])"
   ]
  },
  {
   "cell_type": "code",
   "execution_count": null,
   "id": "961b2cfb",
   "metadata": {},
   "outputs": [],
   "source": []
  },
  {
   "cell_type": "code",
   "execution_count": null,
   "id": "69c34c96",
   "metadata": {},
   "outputs": [],
   "source": []
  },
  {
   "cell_type": "code",
   "execution_count": null,
   "id": "f513b6c9",
   "metadata": {},
   "outputs": [],
   "source": []
  },
  {
   "cell_type": "code",
   "execution_count": null,
   "id": "48d5f451",
   "metadata": {},
   "outputs": [],
   "source": []
  },
  {
   "cell_type": "code",
   "execution_count": null,
   "id": "e3ad6376",
   "metadata": {},
   "outputs": [],
   "source": []
  },
  {
   "cell_type": "code",
   "execution_count": null,
   "id": "6eb2a57c",
   "metadata": {},
   "outputs": [],
   "source": []
  },
  {
   "cell_type": "code",
   "execution_count": null,
   "id": "2d3c1556",
   "metadata": {},
   "outputs": [],
   "source": []
  },
  {
   "cell_type": "code",
   "execution_count": null,
   "id": "386e23c4",
   "metadata": {},
   "outputs": [],
   "source": []
  },
  {
   "cell_type": "code",
   "execution_count": null,
   "id": "599913e3",
   "metadata": {},
   "outputs": [],
   "source": []
  },
  {
   "cell_type": "code",
   "execution_count": null,
   "id": "1173a4ed",
   "metadata": {},
   "outputs": [],
   "source": []
  },
  {
   "cell_type": "code",
   "execution_count": null,
   "id": "d0568cd2",
   "metadata": {},
   "outputs": [],
   "source": []
  },
  {
   "cell_type": "code",
   "execution_count": null,
   "id": "2e194ede",
   "metadata": {},
   "outputs": [],
   "source": []
  },
  {
   "cell_type": "code",
   "execution_count": null,
   "id": "45e5d938",
   "metadata": {},
   "outputs": [],
   "source": []
  },
  {
   "cell_type": "code",
   "execution_count": null,
   "id": "e7e606a0",
   "metadata": {},
   "outputs": [],
   "source": []
  },
  {
   "cell_type": "code",
   "execution_count": null,
   "id": "b9db2b72",
   "metadata": {},
   "outputs": [],
   "source": []
  },
  {
   "cell_type": "code",
   "execution_count": null,
   "id": "99e2204f",
   "metadata": {},
   "outputs": [],
   "source": []
  },
  {
   "cell_type": "code",
   "execution_count": null,
   "id": "b25e3a28",
   "metadata": {},
   "outputs": [],
   "source": []
  },
  {
   "cell_type": "code",
   "execution_count": null,
   "id": "c017ea5d",
   "metadata": {},
   "outputs": [],
   "source": []
  },
  {
   "cell_type": "code",
   "execution_count": null,
   "id": "5ee446c0",
   "metadata": {},
   "outputs": [],
   "source": []
  },
  {
   "cell_type": "code",
   "execution_count": null,
   "id": "fcb6118c",
   "metadata": {},
   "outputs": [],
   "source": []
  },
  {
   "cell_type": "code",
   "execution_count": null,
   "id": "60653ce2",
   "metadata": {},
   "outputs": [],
   "source": []
  },
  {
   "cell_type": "code",
   "execution_count": null,
   "id": "da4c0991",
   "metadata": {},
   "outputs": [],
   "source": []
  },
  {
   "cell_type": "code",
   "execution_count": null,
   "id": "953101bc",
   "metadata": {},
   "outputs": [],
   "source": []
  },
  {
   "cell_type": "code",
   "execution_count": null,
   "id": "d435cf5a",
   "metadata": {},
   "outputs": [],
   "source": []
  },
  {
   "cell_type": "code",
   "execution_count": null,
   "id": "5b1b57ce",
   "metadata": {},
   "outputs": [],
   "source": []
  }
 ],
 "metadata": {
  "kernelspec": {
   "display_name": "pknu_deep_kernel",
   "language": "python",
   "name": "pknu_deep"
  },
  "language_info": {
   "codemirror_mode": {
    "name": "ipython",
    "version": 3
   },
   "file_extension": ".py",
   "mimetype": "text/x-python",
   "name": "python",
   "nbconvert_exporter": "python",
   "pygments_lexer": "ipython3",
   "version": "3.9.16"
  }
 },
 "nbformat": 4,
 "nbformat_minor": 5
}
